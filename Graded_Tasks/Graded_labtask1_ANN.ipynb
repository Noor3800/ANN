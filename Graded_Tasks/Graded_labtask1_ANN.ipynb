{
  "nbformat": 4,
  "nbformat_minor": 0,
  "metadata": {
    "colab": {
      "provenance": []
    },
    "kernelspec": {
      "name": "python3",
      "display_name": "Python 3"
    },
    "language_info": {
      "name": "python"
    }
  },
  "cells": [
    {
      "cell_type": "code",
      "execution_count": 31,
      "metadata": {
        "id": "aVxMfhQhchvw"
      },
      "outputs": [],
      "source": [
        "import numpy as np\n",
        "import matplotlib.pyplot as plt\n",
        "from tensorflow.keras import layers\n",
        "from tensorflow.keras.models import Sequential\n",
        "from tensorflow.keras.layers import Dense, Dropout, Flatten, Conv2D, MaxPooling2D\n",
        "from tensorflow.keras.optimizers import Adam, RMSprop, SGD\n",
        "from tensorflow.keras.regularizers import l1, l2\n",
        "from sklearn.model_selection import train_test_split"
      ]
    },
    {
      "cell_type": "code",
      "source": [
        "(X_train, y_train), (X_test, y_test) = mnist.load_data()"
      ],
      "metadata": {
        "id": "pu6PTLhycpZc"
      },
      "execution_count": 21,
      "outputs": []
    },
    {
      "cell_type": "code",
      "source": [
        "X_train"
      ],
      "metadata": {
        "colab": {
          "base_uri": "https://localhost:8080/"
        },
        "id": "L4D6XSOCcpV5",
        "outputId": "87b6d6d6-7285-40d4-fd40-b0b09f84d9cd"
      },
      "execution_count": 22,
      "outputs": [
        {
          "output_type": "execute_result",
          "data": {
            "text/plain": [
              "array([[[0, 0, 0, ..., 0, 0, 0],\n",
              "        [0, 0, 0, ..., 0, 0, 0],\n",
              "        [0, 0, 0, ..., 0, 0, 0],\n",
              "        ...,\n",
              "        [0, 0, 0, ..., 0, 0, 0],\n",
              "        [0, 0, 0, ..., 0, 0, 0],\n",
              "        [0, 0, 0, ..., 0, 0, 0]],\n",
              "\n",
              "       [[0, 0, 0, ..., 0, 0, 0],\n",
              "        [0, 0, 0, ..., 0, 0, 0],\n",
              "        [0, 0, 0, ..., 0, 0, 0],\n",
              "        ...,\n",
              "        [0, 0, 0, ..., 0, 0, 0],\n",
              "        [0, 0, 0, ..., 0, 0, 0],\n",
              "        [0, 0, 0, ..., 0, 0, 0]],\n",
              "\n",
              "       [[0, 0, 0, ..., 0, 0, 0],\n",
              "        [0, 0, 0, ..., 0, 0, 0],\n",
              "        [0, 0, 0, ..., 0, 0, 0],\n",
              "        ...,\n",
              "        [0, 0, 0, ..., 0, 0, 0],\n",
              "        [0, 0, 0, ..., 0, 0, 0],\n",
              "        [0, 0, 0, ..., 0, 0, 0]],\n",
              "\n",
              "       ...,\n",
              "\n",
              "       [[0, 0, 0, ..., 0, 0, 0],\n",
              "        [0, 0, 0, ..., 0, 0, 0],\n",
              "        [0, 0, 0, ..., 0, 0, 0],\n",
              "        ...,\n",
              "        [0, 0, 0, ..., 0, 0, 0],\n",
              "        [0, 0, 0, ..., 0, 0, 0],\n",
              "        [0, 0, 0, ..., 0, 0, 0]],\n",
              "\n",
              "       [[0, 0, 0, ..., 0, 0, 0],\n",
              "        [0, 0, 0, ..., 0, 0, 0],\n",
              "        [0, 0, 0, ..., 0, 0, 0],\n",
              "        ...,\n",
              "        [0, 0, 0, ..., 0, 0, 0],\n",
              "        [0, 0, 0, ..., 0, 0, 0],\n",
              "        [0, 0, 0, ..., 0, 0, 0]],\n",
              "\n",
              "       [[0, 0, 0, ..., 0, 0, 0],\n",
              "        [0, 0, 0, ..., 0, 0, 0],\n",
              "        [0, 0, 0, ..., 0, 0, 0],\n",
              "        ...,\n",
              "        [0, 0, 0, ..., 0, 0, 0],\n",
              "        [0, 0, 0, ..., 0, 0, 0],\n",
              "        [0, 0, 0, ..., 0, 0, 0]]], dtype=uint8)"
            ]
          },
          "metadata": {},
          "execution_count": 22
        }
      ]
    },
    {
      "cell_type": "code",
      "source": [
        "y_train"
      ],
      "metadata": {
        "colab": {
          "base_uri": "https://localhost:8080/"
        },
        "id": "0tZdDoG7cpTf",
        "outputId": "91c0b908-0f2d-4dc0-946a-7ba30e168646"
      },
      "execution_count": 23,
      "outputs": [
        {
          "output_type": "execute_result",
          "data": {
            "text/plain": [
              "array([5, 0, 4, ..., 5, 6, 8], dtype=uint8)"
            ]
          },
          "metadata": {},
          "execution_count": 23
        }
      ]
    },
    {
      "cell_type": "code",
      "source": [
        "X_train = X_train.reshape(60000, 28, 28, 1).astype('float32') / 255.0\n",
        "X_test = X_test.reshape(10000, 28, 28, 1).astype('float32') / 255.0"
      ],
      "metadata": {
        "id": "e2Z-0KpGdQ6O"
      },
      "execution_count": 25,
      "outputs": []
    },
    {
      "cell_type": "code",
      "source": [
        "X_train, X_test, y_train, y_test = train_test_split(X_train, y_train, test_size=0.2, random_state=42)"
      ],
      "metadata": {
        "id": "asLYla5OdQ25"
      },
      "execution_count": 26,
      "outputs": []
    },
    {
      "cell_type": "code",
      "source": [
        "print(X_train.shape, y_train.shape)"
      ],
      "metadata": {
        "colab": {
          "base_uri": "https://localhost:8080/"
        },
        "id": "xynFea0EeO6v",
        "outputId": "48e09bf1-71d0-424e-8520-ee45a0847d1f"
      },
      "execution_count": 29,
      "outputs": [
        {
          "output_type": "stream",
          "name": "stdout",
          "text": [
            "(48000, 28, 28, 1) (48000,)\n"
          ]
        }
      ]
    },
    {
      "cell_type": "markdown",
      "source": [
        "simple model"
      ],
      "metadata": {
        "id": "lil9Q6z9e_-e"
      }
    },
    {
      "cell_type": "code",
      "source": [
        "model = Sequential([\n",
        "    Conv2D(32, (3, 3), activation='relu', input_shape=(28, 28, 1)),\n",
        "    MaxPooling2D((2, 2)),\n",
        "    Flatten(),\n",
        "    Dense(128, activation='relu'),\n",
        "    Dropout(0.25),\n",
        "    Dense(10, activation='softmax')\n",
        "])"
      ],
      "metadata": {
        "id": "IFIlQR8oesyr"
      },
      "execution_count": 32,
      "outputs": []
    },
    {
      "cell_type": "code",
      "source": [
        "model.compile(optimizer='adam',loss='sparse_categorical_crossentropy',metrics=['accuracy'])"
      ],
      "metadata": {
        "id": "4BHFiewHfJTD"
      },
      "execution_count": 35,
      "outputs": []
    },
    {
      "cell_type": "code",
      "source": [
        "simple_history = model.fit(X_train, y_train, validation_split=0.2, epochs=10, batch_size=128, verbose=2)"
      ],
      "metadata": {
        "colab": {
          "base_uri": "https://localhost:8080/"
        },
        "id": "nrwR0AxhfNgI",
        "outputId": "c89e4656-f810-4ec3-a5cb-386e036611ba"
      },
      "execution_count": 36,
      "outputs": [
        {
          "output_type": "stream",
          "name": "stdout",
          "text": [
            "Epoch 1/10\n",
            "300/300 - 19s - 63ms/step - accuracy: 0.9005 - loss: 0.3390 - val_accuracy: 0.9625 - val_loss: 0.1259\n",
            "Epoch 2/10\n",
            "300/300 - 17s - 57ms/step - accuracy: 0.9667 - loss: 0.1145 - val_accuracy: 0.9766 - val_loss: 0.0784\n",
            "Epoch 3/10\n",
            "300/300 - 20s - 67ms/step - accuracy: 0.9772 - loss: 0.0750 - val_accuracy: 0.9802 - val_loss: 0.0621\n",
            "Epoch 4/10\n",
            "300/300 - 17s - 55ms/step - accuracy: 0.9829 - loss: 0.0589 - val_accuracy: 0.9816 - val_loss: 0.0589\n",
            "Epoch 5/10\n",
            "300/300 - 21s - 69ms/step - accuracy: 0.9862 - loss: 0.0469 - val_accuracy: 0.9829 - val_loss: 0.0533\n",
            "Epoch 6/10\n",
            "300/300 - 20s - 67ms/step - accuracy: 0.9879 - loss: 0.0391 - val_accuracy: 0.9852 - val_loss: 0.0505\n",
            "Epoch 7/10\n",
            "300/300 - 17s - 58ms/step - accuracy: 0.9899 - loss: 0.0324 - val_accuracy: 0.9842 - val_loss: 0.0513\n",
            "Epoch 8/10\n",
            "300/300 - 20s - 65ms/step - accuracy: 0.9909 - loss: 0.0282 - val_accuracy: 0.9845 - val_loss: 0.0479\n",
            "Epoch 9/10\n",
            "300/300 - 20s - 68ms/step - accuracy: 0.9926 - loss: 0.0224 - val_accuracy: 0.9861 - val_loss: 0.0455\n",
            "Epoch 10/10\n",
            "300/300 - 22s - 72ms/step - accuracy: 0.9936 - loss: 0.0207 - val_accuracy: 0.9868 - val_loss: 0.0449\n"
          ]
        }
      ]
    },
    {
      "cell_type": "code",
      "source": [
        "test_loss, test_acc= model.evaluate(X_test, y_test)\n",
        "print(\"Test accuracy: \", test_acc)"
      ],
      "metadata": {
        "colab": {
          "base_uri": "https://localhost:8080/"
        },
        "id": "OWdfH0UxfUCA",
        "outputId": "a7a56bb1-becf-4aaa-bab6-b375c66820d1"
      },
      "execution_count": 18,
      "outputs": [
        {
          "output_type": "stream",
          "name": "stdout",
          "text": [
            "\u001b[1m375/375\u001b[0m \u001b[32m━━━━━━━━━━━━━━━━━━━━\u001b[0m\u001b[37m\u001b[0m \u001b[1m1s\u001b[0m 3ms/step - accuracy: 0.1080 - loss: -1841512704.0000\n",
            "Test accuracy:  0.11016666889190674\n"
          ]
        }
      ]
    },
    {
      "cell_type": "code",
      "source": [
        "plt.plot(history.history['loss'], label='Training Loss')\n",
        "plt.plot(history.history['val_loss'], label='Validation Loss')\n",
        "plt.xlabel('Epochs')\n",
        "plt.ylabel('Loss')\n",
        "plt.legend()\n",
        "plt.show()"
      ],
      "metadata": {
        "id": "lHEVS-l5plcj"
      },
      "execution_count": null,
      "outputs": []
    },
    {
      "cell_type": "code",
      "source": [
        "plt.plot(history.history['accuracy'], label='Training Accuracy')\n",
        "plt.plot(history.history['val_accuracy'], label='Validation Accuracy')\n",
        "plt.xlabel('Epochs')\n",
        "plt.ylabel('Accuracy')\n",
        "plt.legend()\n",
        "plt.show()"
      ],
      "metadata": {
        "id": "G5MxWs01po51"
      },
      "execution_count": null,
      "outputs": []
    },
    {
      "cell_type": "markdown",
      "source": [
        "Model with more layers"
      ],
      "metadata": {
        "id": "PLWAN_a_k7C5"
      }
    },
    {
      "cell_type": "code",
      "source": [
        "more_layers_cnn = Sequential([\n",
        "    Conv2D(32, (3, 3), activation='relu', input_shape=(28, 28, 1)),\n",
        "    MaxPooling2D((2, 2)),\n",
        "    Conv2D(64, (3, 3), activation='relu'),\n",
        "    MaxPooling2D((2, 2)),\n",
        "    Conv2D(128, (3, 3), activation='relu'),\n",
        "    Flatten(),\n",
        "    Dense(256, activation='relu'),\n",
        "    Dropout(0.25),\n",
        "    Dense(10, activation='softmax')\n",
        "])"
      ],
      "metadata": {
        "id": "nSfwFeEOfkMZ"
      },
      "execution_count": null,
      "outputs": []
    },
    {
      "cell_type": "code",
      "source": [
        "more_layers_cnn.compile(optimizer=Adam(learning_rate=0.001), loss='categorical_crossentropy', metrics=['accuracy'])"
      ],
      "metadata": {
        "id": "u7YVFAUUm0MD"
      },
      "execution_count": null,
      "outputs": []
    },
    {
      "cell_type": "markdown",
      "source": [
        "more epochs"
      ],
      "metadata": {
        "id": "o0wOiMTxnNRa"
      }
    },
    {
      "cell_type": "code",
      "source": [
        "more_layers_history = more_layers_cnn.fit(X_train, y_train, epochs=15, batch_size=64, validation_data=(X_test, y_test))"
      ],
      "metadata": {
        "id": "50dXyPmtm94S"
      },
      "execution_count": null,
      "outputs": []
    },
    {
      "cell_type": "code",
      "source": [
        "test_loss1, test_acc1= model.evaluate(X_test, y_test)\n",
        "print(\"Test accuracy: \", test_acc1)"
      ],
      "metadata": {
        "id": "DQZu2A_XnjZy"
      },
      "execution_count": null,
      "outputs": []
    },
    {
      "cell_type": "code",
      "source": [
        "plt.plot(history.history['loss'], label='Training Loss')\n",
        "plt.plot(history.history['val_loss'], label='Validation Loss')\n",
        "plt.xlabel('Epochs')\n",
        "plt.ylabel('Loss')\n",
        "plt.legend()\n",
        "plt.show()"
      ],
      "metadata": {
        "id": "2tw0fmSJpsDN"
      },
      "execution_count": null,
      "outputs": []
    },
    {
      "cell_type": "code",
      "source": [
        "plt.plot(history.history['accuracy'], label='Training Accuracy')\n",
        "plt.plot(history.history['val_accuracy'], label='Validation Accuracy')\n",
        "plt.xlabel('Epochs')\n",
        "plt.ylabel('Accuracy')\n",
        "plt.legend()\n",
        "plt.show()"
      ],
      "metadata": {
        "id": "--l7QDf8psxi"
      },
      "execution_count": null,
      "outputs": []
    },
    {
      "cell_type": "markdown",
      "source": [
        "Model with more number of filters"
      ],
      "metadata": {
        "id": "0E0KJopTlRXk"
      }
    },
    {
      "cell_type": "code",
      "source": [
        "more_filters_cnn = Sequential([\n",
        "    Conv2D(64, (5, 5), activation='tanh', input_shape=(28, 28, 1)),\n",
        "    MaxPooling2D((2, 2)),\n",
        "    Conv2D(128, (5, 5), activation='tanh'),\n",
        "    MaxPooling2D((2, 2)),\n",
        "    Flatten(),\n",
        "    Dense(128, activation='tanh'),\n",
        "    Dropout(0.25),\n",
        "    Dense(10, activation='softmax')\n",
        "])"
      ],
      "metadata": {
        "id": "3cB6TMPclJOr"
      },
      "execution_count": null,
      "outputs": []
    },
    {
      "cell_type": "markdown",
      "source": [
        "Optimizer: rmsprop"
      ],
      "metadata": {
        "id": "ioxAEtUCnwdc"
      }
    },
    {
      "cell_type": "code",
      "source": [
        "more_filters_cnn.compile(optimizer=RMSprop(), loss='categorical_crossentropy', metrics=['accuracy'])"
      ],
      "metadata": {
        "id": "mag-u7ujnbZc"
      },
      "execution_count": null,
      "outputs": []
    },
    {
      "cell_type": "code",
      "source": [
        "more_filters_history = more_filters_cnn.fit(X_train, y_train, epochs=10, batch_size=128, validation_data=(X_test, y_test))"
      ],
      "metadata": {
        "id": "HweBmj1Kn3C2"
      },
      "execution_count": null,
      "outputs": []
    },
    {
      "cell_type": "code",
      "source": [
        "test_loss2, test_acc2= model.evaluate(X_test, y_test)\n",
        "print(\"Test accuracy: \", test_acc2)"
      ],
      "metadata": {
        "id": "tzVY8qp-oP0v"
      },
      "execution_count": null,
      "outputs": []
    },
    {
      "cell_type": "code",
      "source": [
        "plt.plot(history.history['loss'], label='Training Loss')\n",
        "plt.plot(history.history['val_loss'], label='Validation Loss')\n",
        "plt.xlabel('Epochs')\n",
        "plt.ylabel('Loss')\n",
        "plt.legend()\n",
        "plt.show()"
      ],
      "metadata": {
        "id": "pac7ccEVpvlu"
      },
      "execution_count": null,
      "outputs": []
    },
    {
      "cell_type": "code",
      "source": [
        "plt.plot(history.history['accuracy'], label='Training Accuracy')\n",
        "plt.plot(history.history['val_accuracy'], label='Validation Accuracy')\n",
        "plt.xlabel('Epochs')\n",
        "plt.ylabel('Accuracy')\n",
        "plt.legend()\n",
        "plt.show()"
      ],
      "metadata": {
        "id": "BMVLOiVWpveD"
      },
      "execution_count": null,
      "outputs": []
    },
    {
      "cell_type": "markdown",
      "source": [
        "Alternative loss function"
      ],
      "metadata": {
        "id": "uXN-oBOOlvg6"
      }
    },
    {
      "cell_type": "code",
      "source": [
        "sparse_cnn = Sequential([\n",
        "    Conv2D(32, (3, 3), activation='relu', input_shape=(28, 28, 1)),\n",
        "    MaxPooling2D((2, 2)),\n",
        "    Conv2D(64, (3, 3), activation='relu'),\n",
        "    MaxPooling2D((2, 2)),\n",
        "    Flatten(),\n",
        "    Dense(64, activation='relu'),\n",
        "    Dropout(0.25),\n",
        "    Dense(10, activation='softmax')\n",
        "])"
      ],
      "metadata": {
        "id": "DwDstZ_Qlu6q"
      },
      "execution_count": null,
      "outputs": []
    },
    {
      "cell_type": "code",
      "source": [
        "sparse_cnn.compile(optimizer='adam', loss='sparse_categorical_crossentropy', metrics=['accuracy'])"
      ],
      "metadata": {
        "id": "-yaykpJLmM-y"
      },
      "execution_count": null,
      "outputs": []
    },
    {
      "cell_type": "code",
      "source": [
        "sparse_history = sparse_cnn.fit(X_train_sparse, y_train_sparse, epochs=10, batch_size=64, validation_data=(X_test_sparse, y_test_sparse))"
      ],
      "metadata": {
        "id": "GuZ_a6iUo29o"
      },
      "execution_count": null,
      "outputs": []
    },
    {
      "cell_type": "code",
      "source": [
        "test_loss3, test_acc3= model.evaluate(X_test, y_test)\n",
        "print(\"Test accuracy: \", test_acc3)"
      ],
      "metadata": {
        "id": "T9W4d2kVpRXx"
      },
      "execution_count": null,
      "outputs": []
    },
    {
      "cell_type": "code",
      "source": [
        "plt.plot(history.history['loss'], label='Training Loss')\n",
        "plt.plot(history.history['val_loss'], label='Validation Loss')\n",
        "plt.xlabel('Epochs')\n",
        "plt.ylabel('Loss')\n",
        "plt.legend()\n",
        "plt.show()"
      ],
      "metadata": {
        "id": "9UiY4UfkpzBc"
      },
      "execution_count": null,
      "outputs": []
    },
    {
      "cell_type": "code",
      "source": [
        "plt.plot(history.history['accuracy'], label='Training Accuracy')\n",
        "plt.plot(history.history['val_accuracy'], label='Validation Accuracy')\n",
        "plt.xlabel('Epochs')\n",
        "plt.ylabel('Accuracy')\n",
        "plt.legend()\n",
        "plt.show()"
      ],
      "metadata": {
        "id": "etNNwmYGpzh_"
      },
      "execution_count": null,
      "outputs": []
    },
    {
      "cell_type": "code",
      "source": [
        "def compare_models(histories, model_names):\n",
        "    plt.figure(figsize=(12, 5))\n",
        "\n",
        "    # Accuracy comparison\n",
        "    plt.subplot(1, 2, 1)\n",
        "    for history, name in zip(histories, model_names):\n",
        "        plt.plot(history.history['val_accuracy'], label=name)\n",
        "    plt.title('Validation Accuracy Comparison')\n",
        "    plt.ylabel('Accuracy')\n",
        "    plt.xlabel('Epoch')\n",
        "    plt.legend()\n",
        "\n",
        "    # Loss comparison\n",
        "    plt.subplot(1, 2, 2)\n",
        "    for history, name in zip(histories, model_names):\n",
        "        plt.plot(history.history['val_loss'], label=name)\n",
        "    plt.title('Validation Loss Comparison')\n",
        "    plt.ylabel('Loss')\n",
        "    plt.xlabel('Epoch')\n",
        "    plt.legend()\n",
        "\n",
        "    plt.tight_layout()\n",
        "    plt.show()\n",
        "\n",
        "# Usage:\n",
        "histories = [basic_history, deep_history, wide_history, regularized_history, sparse_history]\n",
        "names = ['Basic', 'Deep', 'Wide', 'Regularized', 'Sparse']\n",
        "compare_models(histories, names)"
      ],
      "metadata": {
        "id": "aYcwviaLqaE3"
      },
      "execution_count": null,
      "outputs": []
    }
  ]
}