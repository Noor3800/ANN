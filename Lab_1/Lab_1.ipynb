{
  "nbformat": 4,
  "nbformat_minor": 0,
  "metadata": {
    "colab": {
      "provenance": []
    },
    "kernelspec": {
      "name": "python3",
      "display_name": "Python 3"
    },
    "language_info": {
      "name": "python"
    }
  },
  "cells": [
    {
      "cell_type": "markdown",
      "source": [
        "# **SP23-BAI-046**"
      ],
      "metadata": {
        "id": "_tTgXqwqFk_a"
      }
    },
    {
      "cell_type": "markdown",
      "source": [
        "# **LAB TASK 1**"
      ],
      "metadata": {
        "id": "Gi5dCU3QtDfa"
      }
    },
    {
      "cell_type": "markdown",
      "source": [
        "# **List Operations**"
      ],
      "metadata": {
        "id": "g_EB-Q9unt3l"
      }
    },
    {
      "cell_type": "code",
      "execution_count": 2,
      "metadata": {
        "colab": {
          "base_uri": "https://localhost:8080/"
        },
        "id": "bNl93Tz5mnQs",
        "outputId": "b0acde9b-0abe-4198-8db3-6c9e9f0d6a87"
      },
      "outputs": [
        {
          "output_type": "stream",
          "name": "stdout",
          "text": [
            "List length: 6\n"
          ]
        }
      ],
      "source": [
        "Colors = [\"red\", \"green\", \"blue\", \"yellow\", \"purple\"]\n",
        "Colors.append(\"orange\")\n",
        "Colors.insert(1, \"pink\")\n",
        "Colors.remove(\"blue\")\n",
        "Colors.reverse()\n",
        "Colors.sort()\n",
        "last_three = Colors[-3:]\n",
        "print(\"List length:\", len(Colors))"
      ]
    },
    {
      "cell_type": "markdown",
      "source": [
        "# **Dictionary Operations**"
      ],
      "metadata": {
        "id": "4U1DmANBnwx3"
      }
    },
    {
      "cell_type": "code",
      "source": [
        "Dictionary = {\"name\": \"John\", \"age\": 25, \"city\": \"New York\"}\n",
        "Dictionary[\"email\"] = \"john.doe@example.com\"\n",
        "Dictionary[\"age\"] = 26\n",
        "del Dictionary[\"city\"]\n",
        "\n",
        "if \"name\" in Dictionary:\n",
        "    print(Dictionary.keys())\n",
        "else:\n",
        "    print(Dictionary.items())\n",
        "\n",
        "print(\"Dictionary keys and values:\", Dictionary)"
      ],
      "metadata": {
        "colab": {
          "base_uri": "https://localhost:8080/"
        },
        "id": "mUtAu1W7mo-X",
        "outputId": "8ba9f666-7aad-4a5d-e503-8f682ca5923f"
      },
      "execution_count": 7,
      "outputs": [
        {
          "output_type": "stream",
          "name": "stdout",
          "text": [
            "dict_keys(['name', 'age', 'email'])\n",
            "Dictionary keys and values: {'name': 'John', 'age': 26, 'email': 'john.doe@example.com'}\n"
          ]
        }
      ]
    },
    {
      "cell_type": "markdown",
      "source": [
        "# **Tuple Operations**"
      ],
      "metadata": {
        "id": "EQ1ngdAGoPyL"
      }
    },
    {
      "cell_type": "code",
      "source": [
        "Tuple = (10, 20, 30, 40, 50)\n",
        "print(\"3rd Element of tuple:\", Tuple[2])\n",
        "\n",
        "#Tuple[1] = 29\n",
        "#print(\"Tuple1:\", Tuple)\n",
        "\n",
        "new_tuple = Tuple + (60, 70, 80)\n",
        "print(\"New Tuple:\", new_tuple)\n",
        "\n",
        "a, b, c, d, e, f, g, h = new_tuple\n",
        "print(\"Unpacked values:\", a, b, c, d, e, f, g, h)"
      ],
      "metadata": {
        "colab": {
          "base_uri": "https://localhost:8080/"
        },
        "id": "axEJgeBomri-",
        "outputId": "da54d5e9-ed59-403c-bee3-bd0d533785e3"
      },
      "execution_count": 15,
      "outputs": [
        {
          "output_type": "stream",
          "name": "stdout",
          "text": [
            "3rd Element of tuple: 30\n",
            "New Tuple: (10, 20, 30, 40, 50, 60, 70, 80)\n",
            "Unpacked values: 10 20 30 40 50 60 70 80\n"
          ]
        }
      ]
    },
    {
      "cell_type": "markdown",
      "source": [
        "# **Combining Data Structures**"
      ],
      "metadata": {
        "id": "TT_99Db3r4wS"
      }
    },
    {
      "cell_type": "code",
      "source": [
        "dict = {\n",
        "    \"fruits\": [\"apple\", \"banana\", \"cherry\"],\n",
        "    \"vegetables\": [\"carrot\", \"broccoli\", \"spinach\"]\n",
        "}\n",
        "\n",
        "dict[\"fruits\"].append(\"orange\")\n",
        "dict[\"vegetables\"].remove(\"spinach\")\n",
        "\n",
        "print(\"Updated dictionary:\", dict)\n",
        "\n",
        "fruit_colors = [(\"apple\", \"red\"), (\"banana\", \"yellow\"), (\"cherry\", \"red\")]\n",
        "banana = fruit_colors[1][1]\n",
        "print(\"Color of banana:\", banana)"
      ],
      "metadata": {
        "colab": {
          "base_uri": "https://localhost:8080/"
        },
        "id": "DLphed_MmrFf",
        "outputId": "d9a9c35c-cdec-4c7a-9e37-d8c299c46d8b"
      },
      "execution_count": 17,
      "outputs": [
        {
          "output_type": "stream",
          "name": "stdout",
          "text": [
            "Updated dictionary: {'fruits': ['apple', 'banana', 'cherry', 'orange'], 'vegetables': ['carrot', 'broccoli']}\n",
            "Color of banana: yellow\n"
          ]
        }
      ]
    },
    {
      "cell_type": "markdown",
      "source": [
        "# **LAB TASK 2**"
      ],
      "metadata": {
        "id": "Muq6_H6AtJlU"
      }
    },
    {
      "cell_type": "code",
      "source": [
        "def greet(name):\n",
        "  print(\"Hey\", name, + \"Welcome!\")\n",
        "\n",
        "def fibonacci(n):\n",
        "  if n <= 0:\n",
        "    return \"Invalid input\"\n",
        "  elif n == 1:\n",
        "    return 0\n",
        "  elif n == 2:\n",
        "    return 1\n",
        "  return fibonacci(n - 1) + fibonacci(n - 2)\n",
        "\n",
        "\n",
        "def is_prime(n):\n",
        "    if n <= 1:\n",
        "        return False\n",
        "    for i in range(2, n):\n",
        "        if n % i == 0:\n",
        "            return False\n",
        "    return True\n",
        "\n",
        "\n",
        "def factorial(n):\n",
        "    if n <= 1:\n",
        "        return 1\n",
        "    else:\n",
        "        return n * factorial(n - 1)\n",
        "\n",
        "def reverse_string(s):\n",
        "    return s[::-1]\n"
      ],
      "metadata": {
        "id": "3qD8a275muEC"
      },
      "execution_count": 24,
      "outputs": []
    },
    {
      "cell_type": "markdown",
      "source": [
        "# **Class definition and usage**"
      ],
      "metadata": {
        "id": "3LC3hzJByEi-"
      }
    },
    {
      "cell_type": "code",
      "source": [
        "\n",
        "class Person:\n",
        "  def __init__(self, name, age, email):\n",
        "    self.name = name\n",
        "    self.age = age\n",
        "    self.email = email\n",
        "\n",
        "  def introduce(self):\n",
        "    print(f\"Hey, my name is {self.name}. I am {self.age} years old and my email is {self.email}.\")\n",
        "\n",
        "class Student(Person):\n",
        "  def __init__(self, name, age, email, student_id):\n",
        "    super().__init__(name, age, email)\n",
        "    self.student_id = student_id\n",
        "\n",
        "  def study(self):\n",
        "    print(self.name, \"is currently studying.\")\n",
        "\n",
        "class Course:\n",
        "  def __init__(self, course_name):\n",
        "    self.course_name = course_name\n",
        "    self.students = []\n",
        "\n",
        "  def add_student(self, student):\n",
        "    self.students.append(student)\n",
        "\n",
        "  def list_students(self):\n",
        "    for students in self.students:\n",
        "      print(students.name)"
      ],
      "metadata": {
        "id": "V1ffsET2mq53"
      },
      "execution_count": 36,
      "outputs": []
    },
    {
      "cell_type": "markdown",
      "source": [
        "# **Combining functions and classes**"
      ],
      "metadata": {
        "id": "nT10xry_1ZXK"
      }
    },
    {
      "cell_type": "code",
      "source": [
        "python_course = Course(\"Introduction to Python\")\n",
        "\n",
        "student1 = Student(\"Ali\", 20, \"ali@example.com\", \"S101\")\n",
        "student2 = Student(\"Hina\", 22, \"hina@example.com\", \"S102\")\n",
        "student3 = Student(\"Hajra\", 18, \"hajra@example.com\", \"S103\")\n",
        "\n",
        "python_course.add_student(student1)\n",
        "python_course.add_student(student2)\n",
        "python_course.add_student(student3)\n",
        "\n",
        "python_course.list_students()\n",
        "\n",
        "student1.introduce()\n",
        "student2.introduce()\n",
        "student3.introduce()\n",
        "\n",
        "student1.study()"
      ],
      "metadata": {
        "colab": {
          "base_uri": "https://localhost:8080/"
        },
        "id": "vtBiDB2w1Y0T",
        "outputId": "994f933e-de69-4210-e1b8-e02e2e287819"
      },
      "execution_count": 37,
      "outputs": [
        {
          "output_type": "stream",
          "name": "stdout",
          "text": [
            "Ali\n",
            "Hina\n",
            "Hajra\n",
            "Hey, my name is Ali. I am 20 years old and my email is ali@example.com.\n",
            "Hey, my name is Hina. I am 22 years old and my email is hina@example.com.\n",
            "Hey, my name is Hajra. I am 18 years old and my email is hajra@example.com.\n",
            "Ali is currently studying.\n"
          ]
        }
      ]
    },
    {
      "cell_type": "markdown",
      "source": [
        "# **LAB TASK 3**"
      ],
      "metadata": {
        "id": "qpFx8Np0595g"
      }
    },
    {
      "cell_type": "markdown",
      "source": [
        "# **Understanding pickling:**\n",
        "\n",
        "Pickling is the process of converting a python object into a byte stream. It can be stored in a file or transferred over a network.It is used in python for serialization and deserialization.\n",
        "\n",
        "```\n",
        "# This is formatted as code\n",
        "```\n",
        "\n"
      ],
      "metadata": {
        "id": "Mp0KWwUlBjGf"
      }
    },
    {
      "cell_type": "markdown",
      "source": [
        "# **Basic pickling and unpickling**"
      ],
      "metadata": {
        "id": "JpESw3tE6OSs"
      }
    },
    {
      "cell_type": "code",
      "source": [
        "import pickle\n",
        "\n",
        "students = [\n",
        "    {\"name\": \"Alice\", \"age\": 20, \"grade\": \"A\"},\n",
        "    {\"name\": \"Bob\", \"age\": 22, \"grade\": \"B\"},\n",
        "    {\"name\": \"Charlie\", \"age\": 19, \"grade\": \"C\"},\n",
        "]\n",
        "\n",
        "with open(\"students.pkl\", \"wb\") as file:\n",
        "  pickle.dump(students, file)\n",
        "\n",
        "def load_students(filename=\"students.pkl\"):\n",
        "  with open(filename, \"rb\") as file:\n",
        "    return pickle.load(file)\n",
        "\n",
        "loaded_students = load_students()\n",
        "print(\"Loaded Students:\", loaded_students)"
      ],
      "metadata": {
        "colab": {
          "base_uri": "https://localhost:8080/"
        },
        "id": "OlNInKzAmo66",
        "outputId": "8f1be9cf-86db-4d3b-8d9a-ba0124c46bc1"
      },
      "execution_count": 44,
      "outputs": [
        {
          "output_type": "stream",
          "name": "stdout",
          "text": [
            "Loaded Students: [{'name': 'Alice', 'age': 20, 'grade': 'A'}, {'name': 'Bob', 'age': 22, 'grade': 'B'}, {'name': 'Charlie', 'age': 19, 'grade': 'C'}]\n"
          ]
        }
      ]
    },
    {
      "cell_type": "markdown",
      "source": [
        "# **Working with custom classes**"
      ],
      "metadata": {
        "id": "lXNSo74E8FHI"
      }
    },
    {
      "cell_type": "code",
      "source": [
        "class Student:\n",
        "  def __init__(self, name, age, grade):\n",
        "    self.name = name\n",
        "    self.age = age\n",
        "    self.grade = grade\n",
        "\n",
        "\n",
        "student1 = Student(\"Alice\", 20, \"A\")\n",
        "student2 = Student(\"Bob\", 22, \"B\")\n",
        "student3 = Student(\"Charlie\", 19, \"C\")\n",
        "\n",
        "students = [student1, student2, student3]\n",
        "\n",
        "with open(\"students_class.pkl\", \"wb\") as file:\n",
        "  pickle.dump(students, file)\n",
        "\n",
        "  def load_student_objects(filename=\"students_class.pkl\"):\n",
        "    with open(filename, \"rb\") as file:\n",
        "      return pickle.load(file)\n",
        "\n",
        "loaded_student_objects = load_student_objects()\n",
        "print(\"Loaded Students:\", loaded_student_objects)"
      ],
      "metadata": {
        "colab": {
          "base_uri": "https://localhost:8080/"
        },
        "id": "Vig3VYPgmo32",
        "outputId": "377661b5-45da-49a1-e245-88fc36a2f4ad"
      },
      "execution_count": 51,
      "outputs": [
        {
          "output_type": "stream",
          "name": "stdout",
          "text": [
            "Loaded Students: [<__main__.Student object at 0x7948e92bdad0>, <__main__.Student object at 0x7948aa143210>, <__main__.Student object at 0x7948a9d9f210>]\n"
          ]
        }
      ]
    },
    {
      "cell_type": "markdown",
      "source": [
        "# **Advanced Operations**"
      ],
      "metadata": {
        "id": "YIzVAHTa_Y7V"
      }
    },
    {
      "cell_type": "code",
      "source": [
        "def add_student(filename, student):\n",
        "  try:\n",
        "    with open(filename, \"rb\") as file:\n",
        "        pickle.dump(students, file)\n",
        "  except FileNotFoundError:\n",
        "    with open(filename, \"wb\") as file:\n",
        "      pickle.dump([student], file)\n",
        "    students.append(student)"
      ],
      "metadata": {
        "id": "oDIwOHtG6GWA"
      },
      "execution_count": 50,
      "outputs": []
    },
    {
      "cell_type": "code",
      "source": [],
      "metadata": {
        "id": "X9N3BAKR6F2f"
      },
      "execution_count": null,
      "outputs": []
    }
  ]
}